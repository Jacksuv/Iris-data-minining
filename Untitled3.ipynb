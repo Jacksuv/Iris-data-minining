{
 "metadata": {
  "name": "",
  "signature": "sha256:49b93016ab47f66011cfc41097ad552ed474dc6fbc2f032e417c9219488640e3"
 },
 "nbformat": 3,
 "nbformat_minor": 0,
 "worksheets": [
  {
   "cells": [
    {
     "cell_type": "code",
     "collapsed": false,
     "input": [
      "%matplotlib inline\n",
      "import numpy as np\n",
      "import matplotlib.pyplot as plt\n",
      "import pandas as pd"
     ],
     "language": "python",
     "metadata": {},
     "outputs": [],
     "prompt_number": 1
    },
    {
     "cell_type": "code",
     "collapsed": false,
     "input": [
      "df = pd.read_csv(\"http://archive.ics.uci.edu/ml/machine-learning-databases/iris/iris.data\",header=None)"
     ],
     "language": "python",
     "metadata": {},
     "outputs": [],
     "prompt_number": 2
    },
    {
     "cell_type": "code",
     "collapsed": false,
     "input": [
      "df.tail()"
     ],
     "language": "python",
     "metadata": {},
     "outputs": [
      {
       "html": [
        "<div style=\"max-width:1500px;overflow:auto;\">\n",
        "<table border=\"1\" class=\"dataframe\">\n",
        "  <thead>\n",
        "    <tr style=\"text-align: right;\">\n",
        "      <th></th>\n",
        "      <th>0</th>\n",
        "      <th>1</th>\n",
        "      <th>2</th>\n",
        "      <th>3</th>\n",
        "      <th>4</th>\n",
        "    </tr>\n",
        "  </thead>\n",
        "  <tbody>\n",
        "    <tr>\n",
        "      <th>145</th>\n",
        "      <td>6.7</td>\n",
        "      <td>3.0</td>\n",
        "      <td>5.2</td>\n",
        "      <td>2.3</td>\n",
        "      <td>Iris-virginica</td>\n",
        "    </tr>\n",
        "    <tr>\n",
        "      <th>146</th>\n",
        "      <td>6.3</td>\n",
        "      <td>2.5</td>\n",
        "      <td>5.0</td>\n",
        "      <td>1.9</td>\n",
        "      <td>Iris-virginica</td>\n",
        "    </tr>\n",
        "    <tr>\n",
        "      <th>147</th>\n",
        "      <td>6.5</td>\n",
        "      <td>3.0</td>\n",
        "      <td>5.2</td>\n",
        "      <td>2.0</td>\n",
        "      <td>Iris-virginica</td>\n",
        "    </tr>\n",
        "    <tr>\n",
        "      <th>148</th>\n",
        "      <td>6.2</td>\n",
        "      <td>3.4</td>\n",
        "      <td>5.4</td>\n",
        "      <td>2.3</td>\n",
        "      <td>Iris-virginica</td>\n",
        "    </tr>\n",
        "    <tr>\n",
        "      <th>149</th>\n",
        "      <td>5.9</td>\n",
        "      <td>3.0</td>\n",
        "      <td>5.1</td>\n",
        "      <td>1.8</td>\n",
        "      <td>Iris-virginica</td>\n",
        "    </tr>\n",
        "  </tbody>\n",
        "</table>\n",
        "</div>"
       ],
       "metadata": {},
       "output_type": "pyout",
       "prompt_number": 3,
       "text": [
        "       0    1    2    3               4\n",
        "145  6.7  3.0  5.2  2.3  Iris-virginica\n",
        "146  6.3  2.5  5.0  1.9  Iris-virginica\n",
        "147  6.5  3.0  5.2  2.0  Iris-virginica\n",
        "148  6.2  3.4  5.4  2.3  Iris-virginica\n",
        "149  5.9  3.0  5.1  1.8  Iris-virginica"
       ]
      }
     ],
     "prompt_number": 3
    },
    {
     "cell_type": "code",
     "collapsed": false,
     "input": [
      "y = df.iloc[0:100,4].values"
     ],
     "language": "python",
     "metadata": {},
     "outputs": [],
     "prompt_number": 143
    },
    {
     "cell_type": "code",
     "collapsed": false,
     "input": [
      "y = np.where(y == 'Iris-setosa',1,0)"
     ],
     "language": "python",
     "metadata": {},
     "outputs": [],
     "prompt_number": 144
    },
    {
     "cell_type": "code",
     "collapsed": false,
     "input": [
      "X = df.iloc[0:100,[0,2]].values"
     ],
     "language": "python",
     "metadata": {},
     "outputs": [],
     "prompt_number": 6
    },
    {
     "cell_type": "code",
     "collapsed": false,
     "input": [
      "plt.scatter(X[:50,0],X[:50,1],color='red',marker='o',label='setosor')\n",
      "plt.scatter(X[50:100,0],X[50:100,1],color='blue',marker='x',label='versicolor')\n",
      "plt.xlabel('petal length')\n",
      "plt.ylabel('sepal length')\n",
      "plt.legend(loc='upper left')\n",
      "plt.show()"
     ],
     "language": "python",
     "metadata": {},
     "outputs": [
      {
       "metadata": {},
       "output_type": "display_data",
       "png": "[encoded data removed]",
       "text": [
        "<matplotlib.figure.Figure at 0x7f7c5849db90>"
       ]
      }
     ],
     "prompt_number": 7
    },
    {
     "cell_type": "code",
     "collapsed": false,
     "input": [
      "cd\u684c\u9762"
     ],
     "language": "python",
     "metadata": {},
     "outputs": [
      {
       "output_type": "stream",
       "stream": "stdout",
       "text": [
        "/home/hadoop/\u684c\u9762\n"
       ]
      }
     ],
     "prompt_number": 8
    },
    {
     "cell_type": "code",
     "collapsed": false,
     "input": [
      "!gedit logRe.py"
     ],
     "language": "python",
     "metadata": {},
     "outputs": [],
     "prompt_number": 9
    },
    {
     "cell_type": "code",
     "collapsed": false,
     "input": [
      "l=np.shape(y)"
     ],
     "language": "python",
     "metadata": {},
     "outputs": [],
     "prompt_number": 13
    },
    {
     "cell_type": "code",
     "collapsed": false,
     "input": [
      "l"
     ],
     "language": "python",
     "metadata": {},
     "outputs": [
      {
       "metadata": {},
       "output_type": "pyout",
       "prompt_number": 14,
       "text": [
        "(100,)"
       ]
      }
     ],
     "prompt_number": 14
    },
    {
     "cell_type": "code",
     "collapsed": false,
     "input": [
      "import logRe as logRe"
     ],
     "language": "python",
     "metadata": {},
     "outputs": [],
     "prompt_number": 19
    },
    {
     "cell_type": "code",
     "collapsed": false,
     "input": [],
     "language": "python",
     "metadata": {},
     "outputs": [],
     "prompt_number": 119
    },
    {
     "cell_type": "raw",
     "metadata": {},
     "source": [
      "reload(logRe)"
     ]
    },
    {
     "cell_type": "code",
     "collapsed": false,
     "input": [
      "reload(logRe)"
     ],
     "language": "python",
     "metadata": {},
     "outputs": [
      {
       "metadata": {},
       "output_type": "pyout",
       "prompt_number": 25,
       "text": [
        "<module 'logRe' from 'logRe.py'>"
       ]
      }
     ],
     "prompt_number": 25
    },
    {
     "cell_type": "raw",
     "metadata": {},
     "source": []
    },
    {
     "cell_type": "code",
     "collapsed": false,
     "input": [
      "import numpy as np"
     ],
     "language": "python",
     "metadata": {},
     "outputs": [],
     "prompt_number": 23
    },
    {
     "cell_type": "code",
     "collapsed": false,
     "input": [
      "reload(logRe)\n",
      "m = logRe.gradascent(X,y)"
     ],
     "language": "python",
     "metadata": {},
     "outputs": [],
     "prompt_number": 115
    },
    {
     "cell_type": "code",
     "collapsed": false,
     "input": [
      "m = logRe.gradascent(X,y)"
     ],
     "language": "python",
     "metadata": {},
     "outputs": [],
     "prompt_number": 114
    },
    {
     "cell_type": "code",
     "collapsed": false,
     "input": [
      "np.shape(X)"
     ],
     "language": "python",
     "metadata": {},
     "outputs": [
      {
       "metadata": {},
       "output_type": "pyout",
       "prompt_number": 74,
       "text": [
        "(100, 3)"
       ]
      }
     ],
     "prompt_number": 74
    },
    {
     "cell_type": "code",
     "collapsed": false,
     "input": [
      "np.shape(y)"
     ],
     "language": "python",
     "metadata": {},
     "outputs": [
      {
       "metadata": {},
       "output_type": "pyout",
       "prompt_number": 75,
       "text": [
        "(1, 100)"
       ]
      }
     ],
     "prompt_number": 75
    },
    {
     "cell_type": "code",
     "collapsed": false,
     "input": [
      "X=np.mat(X)"
     ],
     "language": "python",
     "metadata": {},
     "outputs": [],
     "prompt_number": 76
    },
    {
     "cell_type": "code",
     "collapsed": false,
     "input": [
      "y = np.mat(y)"
     ],
     "language": "python",
     "metadata": {},
     "outputs": [],
     "prompt_number": 147
    },
    {
     "cell_type": "code",
     "collapsed": false,
     "input": [
      "np.shape(y)"
     ],
     "language": "python",
     "metadata": {},
     "outputs": [
      {
       "metadata": {},
       "output_type": "pyout",
       "prompt_number": 148,
       "text": [
        "(1, 100)"
       ]
      }
     ],
     "prompt_number": 148
    },
    {
     "cell_type": "code",
     "collapsed": false,
     "input": [
      "np.ones((2,1))"
     ],
     "language": "python",
     "metadata": {},
     "outputs": [
      {
       "metadata": {},
       "output_type": "pyout",
       "prompt_number": 79,
       "text": [
        "array([[ 1.],\n",
        "       [ 1.]])"
       ]
      }
     ],
     "prompt_number": 79
    },
    {
     "cell_type": "code",
     "collapsed": false,
     "input": [
      "m"
     ],
     "language": "python",
     "metadata": {},
     "outputs": [
      {
       "metadata": {},
       "output_type": "pyout",
       "prompt_number": 106,
       "text": [
        "matrix([[-236.6463722 ],\n",
        "        [ 336.10430671],\n",
        "        [ -78.60175624]])"
       ]
      }
     ],
     "prompt_number": 106
    },
    {
     "cell_type": "code",
     "collapsed": false,
     "input": [
      "import matplotlib.pyplot as plt\n",
      "from numpy import *\n",
      "def plotbestfit(w,X,y):\n",
      "    w = w.getA()\n",
      "    X = array(X)\n",
      "    n =shape(X)[0]\n",
      "    xcord1 =[] ; ycord1 = []\n",
      "    xcord2 =[];  ycord2 = []\n",
      "    for i in range(n):\n",
      "        if int(y[0,i])==1:\n",
      "            xcord1.append(X[i,0]);ycord1.append(X[i,1])\n",
      "        else:\n",
      "            xcord2.append(X[i,0]);ycord2.append(X[i,1])\n",
      "            \n",
      "    fig = plt.figure()\n",
      "    ax = fig.add_subplot(111)\n",
      "    ax.scatter(xcord1,ycord1,s=30,c='red',marker='o')\n",
      "    ax.scatter(xcord2,ycord2,s=30,c='blue',marker='x')\n",
      "    x = arange(0.0,10,0.01)\n",
      "    y = arange(0.0,6,0.01)\n",
      "    y = (-w[2]-w[0]*x)/w[1]\n",
      "    ax.plot(x,y)\n",
      "    plt.xlabel(' X1 ');plt.ylabel('X2  ');\n",
      "    plt.show()"
     ],
     "language": "python",
     "metadata": {},
     "outputs": [],
     "prompt_number": 136
    },
    {
     "cell_type": "code",
     "collapsed": false,
     "input": [],
     "language": "python",
     "metadata": {},
     "outputs": [],
     "prompt_number": 119
    },
    {
     "cell_type": "code",
     "collapsed": false,
     "input": [
      "n = zeros((100,3))"
     ],
     "language": "python",
     "metadata": {},
     "outputs": [],
     "prompt_number": 57
    },
    {
     "cell_type": "code",
     "collapsed": false,
     "input": [
      "n=mat(n)"
     ],
     "language": "python",
     "metadata": {},
     "outputs": [],
     "prompt_number": 59
    },
    {
     "cell_type": "code",
     "collapsed": false,
     "input": [
      "n[:,2] = 1"
     ],
     "language": "python",
     "metadata": {},
     "outputs": [],
     "prompt_number": 60
    },
    {
     "cell_type": "code",
     "collapsed": false,
     "input": [
      "n"
     ],
     "language": "python",
     "metadata": {},
     "outputs": [
      {
       "metadata": {},
       "output_type": "pyout",
       "prompt_number": 61,
       "text": [
        "matrix([[ 0.,  0.,  1.],\n",
        "        [ 0.,  0.,  1.],\n",
        "        [ 0.,  0.,  1.],\n",
        "        [ 0.,  0.,  1.],\n",
        "        [ 0.,  0.,  1.],\n",
        "        [ 0.,  0.,  1.],\n",
        "        [ 0.,  0.,  1.],\n",
        "        [ 0.,  0.,  1.],\n",
        "        [ 0.,  0.,  1.],\n",
        "        [ 0.,  0.,  1.],\n",
        "        [ 0.,  0.,  1.],\n",
        "        [ 0.,  0.,  1.],\n",
        "        [ 0.,  0.,  1.],\n",
        "        [ 0.,  0.,  1.],\n",
        "        [ 0.,  0.,  1.],\n",
        "        [ 0.,  0.,  1.],\n",
        "        [ 0.,  0.,  1.],\n",
        "        [ 0.,  0.,  1.],\n",
        "        [ 0.,  0.,  1.],\n",
        "        [ 0.,  0.,  1.],\n",
        "        [ 0.,  0.,  1.],\n",
        "        [ 0.,  0.,  1.],\n",
        "        [ 0.,  0.,  1.],\n",
        "        [ 0.,  0.,  1.],\n",
        "        [ 0.,  0.,  1.],\n",
        "        [ 0.,  0.,  1.],\n",
        "        [ 0.,  0.,  1.],\n",
        "        [ 0.,  0.,  1.],\n",
        "        [ 0.,  0.,  1.],\n",
        "        [ 0.,  0.,  1.],\n",
        "        [ 0.,  0.,  1.],\n",
        "        [ 0.,  0.,  1.],\n",
        "        [ 0.,  0.,  1.],\n",
        "        [ 0.,  0.,  1.],\n",
        "        [ 0.,  0.,  1.],\n",
        "        [ 0.,  0.,  1.],\n",
        "        [ 0.,  0.,  1.],\n",
        "        [ 0.,  0.,  1.],\n",
        "        [ 0.,  0.,  1.],\n",
        "        [ 0.,  0.,  1.],\n",
        "        [ 0.,  0.,  1.],\n",
        "        [ 0.,  0.,  1.],\n",
        "        [ 0.,  0.,  1.],\n",
        "        [ 0.,  0.,  1.],\n",
        "        [ 0.,  0.,  1.],\n",
        "        [ 0.,  0.,  1.],\n",
        "        [ 0.,  0.,  1.],\n",
        "        [ 0.,  0.,  1.],\n",
        "        [ 0.,  0.,  1.],\n",
        "        [ 0.,  0.,  1.],\n",
        "        [ 0.,  0.,  1.],\n",
        "        [ 0.,  0.,  1.],\n",
        "        [ 0.,  0.,  1.],\n",
        "        [ 0.,  0.,  1.],\n",
        "        [ 0.,  0.,  1.],\n",
        "        [ 0.,  0.,  1.],\n",
        "        [ 0.,  0.,  1.],\n",
        "        [ 0.,  0.,  1.],\n",
        "        [ 0.,  0.,  1.],\n",
        "        [ 0.,  0.,  1.],\n",
        "        [ 0.,  0.,  1.],\n",
        "        [ 0.,  0.,  1.],\n",
        "        [ 0.,  0.,  1.],\n",
        "        [ 0.,  0.,  1.],\n",
        "        [ 0.,  0.,  1.],\n",
        "        [ 0.,  0.,  1.],\n",
        "        [ 0.,  0.,  1.],\n",
        "        [ 0.,  0.,  1.],\n",
        "        [ 0.,  0.,  1.],\n",
        "        [ 0.,  0.,  1.],\n",
        "        [ 0.,  0.,  1.],\n",
        "        [ 0.,  0.,  1.],\n",
        "        [ 0.,  0.,  1.],\n",
        "        [ 0.,  0.,  1.],\n",
        "        [ 0.,  0.,  1.],\n",
        "        [ 0.,  0.,  1.],\n",
        "        [ 0.,  0.,  1.],\n",
        "        [ 0.,  0.,  1.],\n",
        "        [ 0.,  0.,  1.],\n",
        "        [ 0.,  0.,  1.],\n",
        "        [ 0.,  0.,  1.],\n",
        "        [ 0.,  0.,  1.],\n",
        "        [ 0.,  0.,  1.],\n",
        "        [ 0.,  0.,  1.],\n",
        "        [ 0.,  0.,  1.],\n",
        "        [ 0.,  0.,  1.],\n",
        "        [ 0.,  0.,  1.],\n",
        "        [ 0.,  0.,  1.],\n",
        "        [ 0.,  0.,  1.],\n",
        "        [ 0.,  0.,  1.],\n",
        "        [ 0.,  0.,  1.],\n",
        "        [ 0.,  0.,  1.],\n",
        "        [ 0.,  0.,  1.],\n",
        "        [ 0.,  0.,  1.],\n",
        "        [ 0.,  0.,  1.],\n",
        "        [ 0.,  0.,  1.],\n",
        "        [ 0.,  0.,  1.],\n",
        "        [ 0.,  0.,  1.],\n",
        "        [ 0.,  0.,  1.],\n",
        "        [ 0.,  0.,  1.]])"
       ]
      }
     ],
     "prompt_number": 61
    },
    {
     "cell_type": "code",
     "collapsed": false,
     "input": [],
     "language": "python",
     "metadata": {},
     "outputs": [],
     "prompt_number": 119
    },
    {
     "cell_type": "code",
     "collapsed": false,
     "input": [],
     "language": "python",
     "metadata": {},
     "outputs": [],
     "prompt_number": 119
    },
    {
     "cell_type": "code",
     "collapsed": false,
     "input": [
      "X = hstack((X,n))"
     ],
     "language": "python",
     "metadata": {},
     "outputs": [],
     "prompt_number": 69
    },
    {
     "cell_type": "code",
     "collapsed": false,
     "input": [
      "n = ones((100,1))"
     ],
     "language": "python",
     "metadata": {},
     "outputs": [],
     "prompt_number": 70
    },
    {
     "cell_type": "code",
     "collapsed": false,
     "input": [
      "X\n"
     ],
     "language": "python",
     "metadata": {},
     "outputs": [
      {
       "metadata": {},
       "output_type": "pyout",
       "prompt_number": 71,
       "text": [
        "matrix([[ 5.1,  1.4,  1. ],\n",
        "        [ 4.9,  1.4,  1. ],\n",
        "        [ 4.7,  1.3,  1. ],\n",
        "        [ 4.6,  1.5,  1. ],\n",
        "        [ 5. ,  1.4,  1. ],\n",
        "        [ 5.4,  1.7,  1. ],\n",
        "        [ 4.6,  1.4,  1. ],\n",
        "        [ 5. ,  1.5,  1. ],\n",
        "        [ 4.4,  1.4,  1. ],\n",
        "        [ 4.9,  1.5,  1. ],\n",
        "        [ 5.4,  1.5,  1. ],\n",
        "        [ 4.8,  1.6,  1. ],\n",
        "        [ 4.8,  1.4,  1. ],\n",
        "        [ 4.3,  1.1,  1. ],\n",
        "        [ 5.8,  1.2,  1. ],\n",
        "        [ 5.7,  1.5,  1. ],\n",
        "        [ 5.4,  1.3,  1. ],\n",
        "        [ 5.1,  1.4,  1. ],\n",
        "        [ 5.7,  1.7,  1. ],\n",
        "        [ 5.1,  1.5,  1. ],\n",
        "        [ 5.4,  1.7,  1. ],\n",
        "        [ 5.1,  1.5,  1. ],\n",
        "        [ 4.6,  1. ,  1. ],\n",
        "        [ 5.1,  1.7,  1. ],\n",
        "        [ 4.8,  1.9,  1. ],\n",
        "        [ 5. ,  1.6,  1. ],\n",
        "        [ 5. ,  1.6,  1. ],\n",
        "        [ 5.2,  1.5,  1. ],\n",
        "        [ 5.2,  1.4,  1. ],\n",
        "        [ 4.7,  1.6,  1. ],\n",
        "        [ 4.8,  1.6,  1. ],\n",
        "        [ 5.4,  1.5,  1. ],\n",
        "        [ 5.2,  1.5,  1. ],\n",
        "        [ 5.5,  1.4,  1. ],\n",
        "        [ 4.9,  1.5,  1. ],\n",
        "        [ 5. ,  1.2,  1. ],\n",
        "        [ 5.5,  1.3,  1. ],\n",
        "        [ 4.9,  1.5,  1. ],\n",
        "        [ 4.4,  1.3,  1. ],\n",
        "        [ 5.1,  1.5,  1. ],\n",
        "        [ 5. ,  1.3,  1. ],\n",
        "        [ 4.5,  1.3,  1. ],\n",
        "        [ 4.4,  1.3,  1. ],\n",
        "        [ 5. ,  1.6,  1. ],\n",
        "        [ 5.1,  1.9,  1. ],\n",
        "        [ 4.8,  1.4,  1. ],\n",
        "        [ 5.1,  1.6,  1. ],\n",
        "        [ 4.6,  1.4,  1. ],\n",
        "        [ 5.3,  1.5,  1. ],\n",
        "        [ 5. ,  1.4,  1. ],\n",
        "        [ 7. ,  4.7,  1. ],\n",
        "        [ 6.4,  4.5,  1. ],\n",
        "        [ 6.9,  4.9,  1. ],\n",
        "        [ 5.5,  4. ,  1. ],\n",
        "        [ 6.5,  4.6,  1. ],\n",
        "        [ 5.7,  4.5,  1. ],\n",
        "        [ 6.3,  4.7,  1. ],\n",
        "        [ 4.9,  3.3,  1. ],\n",
        "        [ 6.6,  4.6,  1. ],\n",
        "        [ 5.2,  3.9,  1. ],\n",
        "        [ 5. ,  3.5,  1. ],\n",
        "        [ 5.9,  4.2,  1. ],\n",
        "        [ 6. ,  4. ,  1. ],\n",
        "        [ 6.1,  4.7,  1. ],\n",
        "        [ 5.6,  3.6,  1. ],\n",
        "        [ 6.7,  4.4,  1. ],\n",
        "        [ 5.6,  4.5,  1. ],\n",
        "        [ 5.8,  4.1,  1. ],\n",
        "        [ 6.2,  4.5,  1. ],\n",
        "        [ 5.6,  3.9,  1. ],\n",
        "        [ 5.9,  4.8,  1. ],\n",
        "        [ 6.1,  4. ,  1. ],\n",
        "        [ 6.3,  4.9,  1. ],\n",
        "        [ 6.1,  4.7,  1. ],\n",
        "        [ 6.4,  4.3,  1. ],\n",
        "        [ 6.6,  4.4,  1. ],\n",
        "        [ 6.8,  4.8,  1. ],\n",
        "        [ 6.7,  5. ,  1. ],\n",
        "        [ 6. ,  4.5,  1. ],\n",
        "        [ 5.7,  3.5,  1. ],\n",
        "        [ 5.5,  3.8,  1. ],\n",
        "        [ 5.5,  3.7,  1. ],\n",
        "        [ 5.8,  3.9,  1. ],\n",
        "        [ 6. ,  5.1,  1. ],\n",
        "        [ 5.4,  4.5,  1. ],\n",
        "        [ 6. ,  4.5,  1. ],\n",
        "        [ 6.7,  4.7,  1. ],\n",
        "        [ 6.3,  4.4,  1. ],\n",
        "        [ 5.6,  4.1,  1. ],\n",
        "        [ 5.5,  4. ,  1. ],\n",
        "        [ 5.5,  4.4,  1. ],\n",
        "        [ 6.1,  4.6,  1. ],\n",
        "        [ 5.8,  4. ,  1. ],\n",
        "        [ 5. ,  3.3,  1. ],\n",
        "        [ 5.6,  4.2,  1. ],\n",
        "        [ 5.7,  4.2,  1. ],\n",
        "        [ 5.7,  4.2,  1. ],\n",
        "        [ 6.2,  4.3,  1. ],\n",
        "        [ 5.1,  3. ,  1. ],\n",
        "        [ 5.7,  4.1,  1. ]])"
       ]
      }
     ],
     "prompt_number": 71
    },
    {
     "cell_type": "code",
     "collapsed": false,
     "input": [
      "plotbestfit(m,X,y)"
     ],
     "language": "python",
     "metadata": {},
     "outputs": [
      {
       "metadata": {},
       "output_type": "display_data",
       "png": "[encoded data removed]",
       "text": [
        "<matplotlib.figure.Figure at 0x7f7c577e1e10>"
       ]
      }
     ],
     "prompt_number": 112
    },
    {
     "cell_type": "code",
     "collapsed": false,
     "input": [
      "y"
     ],
     "language": "python",
     "metadata": {},
     "outputs": [
      {
       "metadata": {},
       "output_type": "pyout",
       "prompt_number": 89,
       "text": [
        "matrix([[-1, -1, -1, -1, -1, -1, -1, -1, -1, -1, -1, -1, -1, -1, -1, -1, -1,\n",
        "         -1, -1, -1, -1, -1, -1, -1, -1, -1, -1, -1, -1, -1, -1, -1, -1, -1,\n",
        "         -1, -1, -1, -1, -1, -1, -1, -1, -1, -1, -1, -1, -1, -1, -1, -1,  1,\n",
        "          1,  1,  1,  1,  1,  1,  1,  1,  1,  1,  1,  1,  1,  1,  1,  1,  1,\n",
        "          1,  1,  1,  1,  1,  1,  1,  1,  1,  1,  1,  1,  1,  1,  1,  1,  1,\n",
        "          1,  1,  1,  1,  1,  1,  1,  1,  1,  1,  1,  1,  1,  1,  1]])"
       ]
      }
     ],
     "prompt_number": 89
    },
    {
     "cell_type": "code",
     "collapsed": false,
     "input": [
      "shape(y)"
     ],
     "language": "python",
     "metadata": {},
     "outputs": [
      {
       "metadata": {},
       "output_type": "pyout",
       "prompt_number": 90,
       "text": [
        "(1, 100)"
       ]
      }
     ],
     "prompt_number": 90
    },
    {
     "cell_type": "code",
     "collapsed": false,
     "input": [
      "y[0,1]"
     ],
     "language": "python",
     "metadata": {},
     "outputs": [
      {
       "metadata": {},
       "output_type": "pyout",
       "prompt_number": 93,
       "text": [
        "-1"
       ]
      }
     ],
     "prompt_number": 93
    },
    {
     "cell_type": "code",
     "collapsed": false,
     "input": [],
     "language": "python",
     "metadata": {},
     "outputs": [],
     "prompt_number": 119
    },
    {
     "cell_type": "code",
     "collapsed": false,
     "input": [
      "m"
     ],
     "language": "python",
     "metadata": {},
     "outputs": [
      {
       "metadata": {},
       "output_type": "pyout",
       "prompt_number": 127,
       "text": [
        "matrix([[ 249.89610442],\n",
        "        [  72.99203275],\n",
        "        [  49.92574398]])"
       ]
      }
     ],
     "prompt_number": 127
    },
    {
     "cell_type": "code",
     "collapsed": false,
     "input": [
      "X"
     ],
     "language": "python",
     "metadata": {},
     "outputs": [
      {
       "metadata": {},
       "output_type": "pyout",
       "prompt_number": 119,
       "text": [
        "matrix([[ 5.1,  1.4,  1. ],\n",
        "        [ 4.9,  1.4,  1. ],\n",
        "        [ 4.7,  1.3,  1. ],\n",
        "        [ 4.6,  1.5,  1. ],\n",
        "        [ 5. ,  1.4,  1. ],\n",
        "        [ 5.4,  1.7,  1. ],\n",
        "        [ 4.6,  1.4,  1. ],\n",
        "        [ 5. ,  1.5,  1. ],\n",
        "        [ 4.4,  1.4,  1. ],\n",
        "        [ 4.9,  1.5,  1. ],\n",
        "        [ 5.4,  1.5,  1. ],\n",
        "        [ 4.8,  1.6,  1. ],\n",
        "        [ 4.8,  1.4,  1. ],\n",
        "        [ 4.3,  1.1,  1. ],\n",
        "        [ 5.8,  1.2,  1. ],\n",
        "        [ 5.7,  1.5,  1. ],\n",
        "        [ 5.4,  1.3,  1. ],\n",
        "        [ 5.1,  1.4,  1. ],\n",
        "        [ 5.7,  1.7,  1. ],\n",
        "        [ 5.1,  1.5,  1. ],\n",
        "        [ 5.4,  1.7,  1. ],\n",
        "        [ 5.1,  1.5,  1. ],\n",
        "        [ 4.6,  1. ,  1. ],\n",
        "        [ 5.1,  1.7,  1. ],\n",
        "        [ 4.8,  1.9,  1. ],\n",
        "        [ 5. ,  1.6,  1. ],\n",
        "        [ 5. ,  1.6,  1. ],\n",
        "        [ 5.2,  1.5,  1. ],\n",
        "        [ 5.2,  1.4,  1. ],\n",
        "        [ 4.7,  1.6,  1. ],\n",
        "        [ 4.8,  1.6,  1. ],\n",
        "        [ 5.4,  1.5,  1. ],\n",
        "        [ 5.2,  1.5,  1. ],\n",
        "        [ 5.5,  1.4,  1. ],\n",
        "        [ 4.9,  1.5,  1. ],\n",
        "        [ 5. ,  1.2,  1. ],\n",
        "        [ 5.5,  1.3,  1. ],\n",
        "        [ 4.9,  1.5,  1. ],\n",
        "        [ 4.4,  1.3,  1. ],\n",
        "        [ 5.1,  1.5,  1. ],\n",
        "        [ 5. ,  1.3,  1. ],\n",
        "        [ 4.5,  1.3,  1. ],\n",
        "        [ 4.4,  1.3,  1. ],\n",
        "        [ 5. ,  1.6,  1. ],\n",
        "        [ 5.1,  1.9,  1. ],\n",
        "        [ 4.8,  1.4,  1. ],\n",
        "        [ 5.1,  1.6,  1. ],\n",
        "        [ 4.6,  1.4,  1. ],\n",
        "        [ 5.3,  1.5,  1. ],\n",
        "        [ 5. ,  1.4,  1. ],\n",
        "        [ 7. ,  4.7,  1. ],\n",
        "        [ 6.4,  4.5,  1. ],\n",
        "        [ 6.9,  4.9,  1. ],\n",
        "        [ 5.5,  4. ,  1. ],\n",
        "        [ 6.5,  4.6,  1. ],\n",
        "        [ 5.7,  4.5,  1. ],\n",
        "        [ 6.3,  4.7,  1. ],\n",
        "        [ 4.9,  3.3,  1. ],\n",
        "        [ 6.6,  4.6,  1. ],\n",
        "        [ 5.2,  3.9,  1. ],\n",
        "        [ 5. ,  3.5,  1. ],\n",
        "        [ 5.9,  4.2,  1. ],\n",
        "        [ 6. ,  4. ,  1. ],\n",
        "        [ 6.1,  4.7,  1. ],\n",
        "        [ 5.6,  3.6,  1. ],\n",
        "        [ 6.7,  4.4,  1. ],\n",
        "        [ 5.6,  4.5,  1. ],\n",
        "        [ 5.8,  4.1,  1. ],\n",
        "        [ 6.2,  4.5,  1. ],\n",
        "        [ 5.6,  3.9,  1. ],\n",
        "        [ 5.9,  4.8,  1. ],\n",
        "        [ 6.1,  4. ,  1. ],\n",
        "        [ 6.3,  4.9,  1. ],\n",
        "        [ 6.1,  4.7,  1. ],\n",
        "        [ 6.4,  4.3,  1. ],\n",
        "        [ 6.6,  4.4,  1. ],\n",
        "        [ 6.8,  4.8,  1. ],\n",
        "        [ 6.7,  5. ,  1. ],\n",
        "        [ 6. ,  4.5,  1. ],\n",
        "        [ 5.7,  3.5,  1. ],\n",
        "        [ 5.5,  3.8,  1. ],\n",
        "        [ 5.5,  3.7,  1. ],\n",
        "        [ 5.8,  3.9,  1. ],\n",
        "        [ 6. ,  5.1,  1. ],\n",
        "        [ 5.4,  4.5,  1. ],\n",
        "        [ 6. ,  4.5,  1. ],\n",
        "        [ 6.7,  4.7,  1. ],\n",
        "        [ 6.3,  4.4,  1. ],\n",
        "        [ 5.6,  4.1,  1. ],\n",
        "        [ 5.5,  4. ,  1. ],\n",
        "        [ 5.5,  4.4,  1. ],\n",
        "        [ 6.1,  4.6,  1. ],\n",
        "        [ 5.8,  4. ,  1. ],\n",
        "        [ 5. ,  3.3,  1. ],\n",
        "        [ 5.6,  4.2,  1. ],\n",
        "        [ 5.7,  4.2,  1. ],\n",
        "        [ 5.7,  4.2,  1. ],\n",
        "        [ 6.2,  4.3,  1. ],\n",
        "        [ 5.1,  3. ,  1. ],\n",
        "        [ 5.7,  4.1,  1. ]])"
       ]
      }
     ],
     "prompt_number": 119
    },
    {
     "cell_type": "code",
     "collapsed": false,
     "input": [
      "reload(logRe)\n",
      "m = logRe.gradascent(X,y)\n",
      "plotbestfit(m,X,y)"
     ],
     "language": "python",
     "metadata": {},
     "outputs": [
      {
       "metadata": {},
       "output_type": "display_data",
       "png": "[encoded data removed]",
       "text": [
        "<matplotlib.figure.Figure at 0x7f7c57992650>"
       ]
      }
     ],
     "prompt_number": 149
    },
    {
     "cell_type": "code",
     "collapsed": false,
     "input": [],
     "language": "python",
     "metadata": {},
     "outputs": [],
     "prompt_number": 149
    },
    {
     "cell_type": "code",
     "collapsed": false,
     "input": [],
     "language": "python",
     "metadata": {},
     "outputs": []
    }
   ],
   "metadata": {}
  }
 ]
}