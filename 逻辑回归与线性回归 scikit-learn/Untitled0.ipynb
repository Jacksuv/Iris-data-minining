{
 "metadata": {
  "name": "",
  "signature": "sha256:40bbb1f55c087c08c927e4c723530543d3952f546bc60aefa652f7de53fd40e3"
 },
 "nbformat": 3,
 "nbformat_minor": 0,
 "worksheets": [
  {
   "cells": [
    {
     "cell_type": "code",
     "collapsed": false,
     "input": [
      "%matplotlib inline\n",
      "import numpy as np\n",
      "from sklearn import datasets"
     ],
     "language": "python",
     "metadata": {},
     "outputs": [],
     "prompt_number": 1
    },
    {
     "cell_type": "code",
     "collapsed": false,
     "input": [
      "iris = datasets.load_iris()\n",
      "X = iris.data[:,[2,3]]\n",
      "y = iris.target"
     ],
     "language": "python",
     "metadata": {},
     "outputs": [],
     "prompt_number": 2
    },
    {
     "cell_type": "code",
     "collapsed": false,
     "input": [
      "np.unique(y) #\u8ba1\u7b97y\u4e2d\u552f\u4e00\u5143\u7d20"
     ],
     "language": "python",
     "metadata": {},
     "outputs": [
      {
       "metadata": {},
       "output_type": "pyout",
       "prompt_number": 4,
       "text": [
        "array([0, 1, 2])"
       ]
      }
     ],
     "prompt_number": 4
    },
    {
     "cell_type": "code",
     "collapsed": false,
     "input": [
      "from sklearn.cross_validation import train_test_split #\u5212\u5206\u6570\u636e\u96c6\n",
      "X_train, X_test, y_train, y_test = train_test_split(X,y,test_size=0.2, random_state = 0)"
     ],
     "language": "python",
     "metadata": {},
     "outputs": [],
     "prompt_number": 6
    },
    {
     "cell_type": "code",
     "collapsed": false,
     "input": [
      "from sklearn.preprocessing import StandardScaler\n",
      "sc = StandardScaler()\n",
      "sc.fit(X_train)\n",
      "X_train_std = sc.transform(X_train) #\u6570\u636e\u6807\u51c6\u5316\n",
      "X_test_std = sc.transform(X_test)"
     ],
     "language": "python",
     "metadata": {},
     "outputs": [],
     "prompt_number": 10
    },
    {
     "cell_type": "code",
     "collapsed": false,
     "input": [
      "from sklearn.linear_model import Perceptron"
     ],
     "language": "python",
     "metadata": {},
     "outputs": [],
     "prompt_number": 11
    },
    {
     "cell_type": "code",
     "collapsed": false,
     "input": [
      "ppn = Perceptron(n_iter=40,eta0=0.1,random_state=0)"
     ],
     "language": "python",
     "metadata": {},
     "outputs": [],
     "prompt_number": 12
    },
    {
     "cell_type": "code",
     "collapsed": false,
     "input": [
      "ppn.fit(X_train_std,y_train)"
     ],
     "language": "python",
     "metadata": {},
     "outputs": [
      {
       "metadata": {},
       "output_type": "pyout",
       "prompt_number": 13,
       "text": [
        "Perceptron(alpha=0.0001, class_weight=None, eta0=0.1, fit_intercept=True,\n",
        "      n_iter=40, n_jobs=1, penalty=None, random_state=0, shuffle=True,\n",
        "      verbose=0, warm_start=False)"
       ]
      }
     ],
     "prompt_number": 13
    },
    {
     "cell_type": "code",
     "collapsed": false,
     "input": [
      "y_pred = ppn.predict(X_test_std)"
     ],
     "language": "python",
     "metadata": {},
     "outputs": [],
     "prompt_number": 14
    },
    {
     "cell_type": "code",
     "collapsed": false,
     "input": [
      "y_pred"
     ],
     "language": "python",
     "metadata": {},
     "outputs": [
      {
       "metadata": {},
       "output_type": "pyout",
       "prompt_number": 15,
       "text": [
        "array([2, 1, 0, 2, 0, 2, 0, 1, 1, 1, 1, 1, 1, 1, 1, 0, 1, 1, 0, 0, 2, 1, 0,\n",
        "       0, 2, 0, 0, 1, 0, 0])"
       ]
      }
     ],
     "prompt_number": 15
    },
    {
     "cell_type": "code",
     "collapsed": false,
     "input": [
      "print('error numbers = %d'% (y_test != y_pred).sum())"
     ],
     "language": "python",
     "metadata": {},
     "outputs": [
      {
       "output_type": "stream",
       "stream": "stdout",
       "text": [
        "error numbers = 2\n"
       ]
      }
     ],
     "prompt_number": 29
    },
    {
     "cell_type": "code",
     "collapsed": false,
     "input": [
      "from sklearn.metrics import accuracy_score\n",
      "print ('Accuracy:%.2f' %accuracy_score(y_test, y_pred))"
     ],
     "language": "python",
     "metadata": {},
     "outputs": [
      {
       "output_type": "stream",
       "stream": "stdout",
       "text": [
        "Accuracy:0.93\n"
       ]
      }
     ],
     "prompt_number": 36
    },
    {
     "cell_type": "markdown",
     "metadata": {},
     "source": []
    },
    {
     "cell_type": "code",
     "collapsed": false,
     "input": [
      "from\tmatplotlib.colors\timport\tListedColormap\n",
      "import\tmatplotlib.pyplot\tas\tplt\n",
      "def\tplot_decision_regions(X,\ty,\tclassifier,\ttest_idx=None,\tresolution=0.02):\n",
      "\t\t\t\t#\tsetup\tmarker\tgenerator\tand\tcolor\tmap\n",
      "\t\t\t\tmarkers\t=\t('s',\t'x',\t'o',\t'^',\t'v')\n",
      "\t\t\t\tcolors\t=\t('red',\t'blue',\t'lightgreen',\t'gray',\t'cyan')\n",
      "\t\t\t\tcmap\t=\tListedColormap(colors[:len(np.unique(y))])\n",
      "\t\t\t\t#\tplot\tthe\tdecision\tsurface\n",
      "\t\t\t\tx1_min,\tx1_max\t=\tX[:,\t0].min()\t-\t1,\tX[:,\t0].max()\t+\t1\n",
      "\t\t\t\tx2_min,\tx2_max\t=\tX[:,\t1].min()\t-\t1,\tX[:,\t1].max()\t+\t1\n",
      "\t\t\t\txx1,\txx2\t=\tnp.meshgrid(np.arange(x1_min,\tx1_max,\tresolution),\n",
      "\t\t\t\t\t\t\t\t\t\t\t\t\t\t\t\t\t\t\t\t\t\t\t\t\t\t\t\tnp.arange(x2_min,\tx2_max,\tresolution))\n",
      "\t\t\t\tZ\t=\tclassifier.predict(np.array([xx1.ravel(),\txx2.ravel()]).T)\n",
      "\t\t\t\tZ\t=\tZ.reshape(xx1.shape)\n",
      "\t\t\t\tplt.contourf(xx1,\txx2,\tZ,\tslpha=0.4,\tcmap=cmap)\n",
      "\t\t\t\tplt.xlim(xx1.min(),\txx1.max())\n",
      "\t\t\t\tplt.ylim(xx2.min(),\txx2.max())\n",
      "\t\t\t\t#\tplot\tall\tsamples\n",
      "\t\t\t\tX_test,\ty_test\t=\tX[test_idx,\t:],\ty[test_idx]\n",
      "\t\t\t\tfor\tidx,\tcl\tin\tenumerate(np.unique(y)):\n",
      "\t\t\t\t\t\t\t\tplt.scatter(x=X[y\t==\tcl,\t0],\ty=X[y\t==\tcl,\t1],\n",
      "\t\t\t\t\t\t\t\t\t\t\t\t\t\t\t\t\t\t\t\talpha=0.8,\tc=cmap(idx),\n",
      "\t\t\t\t\t\t\t\t\t\t\t\t\t\t\t\t\t\t\t\tmarker=markers[idx],\tlabel=cl)\n",
      "\t\t\t\t#\thighlight\ttest\tsamples\n",
      "\t\t\t\tif\ttest_idx:\n",
      "\t\t\t\t\t\t\t\tX_test,\ty_test\t=\tX[test_idx,\t:],\ty[test_idx]\n",
      "\t\t\t\t\t\t\t\tplt.scatter(X_test[:,\t0],\tX_test[:,\t1],\tc='',\n",
      "\t\t\t\t\t\t\t\t\t\t\t\t\t\t\t\t\t\t\t\talpha=1.0,\tlinewidth=1,\tmarker='o',\n",
      "\t\t\t\t\t\t\t\t\t\t\t\t\t\t\t\t\t\t\t\ts=55,\tlabel='test\tset')"
     ],
     "language": "python",
     "metadata": {},
     "outputs": [],
     "prompt_number": 37
    },
    {
     "cell_type": "code",
     "collapsed": false,
     "input": [
      "X_combined_std = np.vstack((X_train_std,X_test_std))"
     ],
     "language": "python",
     "metadata": {},
     "outputs": [],
     "prompt_number": 38
    },
    {
     "cell_type": "code",
     "collapsed": false,
     "input": [
      "y_combined = np.hstack((y_train,y_test))"
     ],
     "language": "python",
     "metadata": {},
     "outputs": [],
     "prompt_number": 39
    },
    {
     "cell_type": "code",
     "collapsed": false,
     "input": [
      "plot_decision_regions(X = X_combined_std,y = y_combined,classifier=ppn,test_idx=range(105,150))\n",
      "plt.xlabel('petal length [standardized]')\n",
      "plt.ylabel('petal width [standarddized]')\n",
      "plt.legend(loc='upper left')\n",
      "plt.show"
     ],
     "language": "python",
     "metadata": {},
     "outputs": [
      {
       "metadata": {},
       "output_type": "pyout",
       "prompt_number": 40,
       "text": [
        "<function matplotlib.pyplot.show>"
       ]
      },
      {
       "metadata": {},
       "output_type": "display_data",
       "png": "[encoded data removed]",
       "text": [
        "<matplotlib.figure.Figure at 0x7fa3fce76990>"
       ]
      }
     ],
     "prompt_number": 40
    },
    {
     "cell_type": "code",
     "collapsed": false,
     "input": [
      "#\u611f\u77e5\u673a\u5bf9\u4e8e\u4e0d\u80fd\u591f\u7ebf\u6027\u53ef\u5206\u7684\u6570\u636e,\u7b97\u6cd5\u6c38\u8fdc\u4e0d\u4f1a\u6536\u655b,\u8fd9\u4e5f\u662f\u4e3a\u4ec0\u4e48\u6211\u4eec\u4e0d\u63a8\u8350\u5927\u5bb6\u5b9e\u9645\u4f7f\u7528\u611f\u77e5\u673a\u7684\u539f\u56e0"
     ],
     "language": "python",
     "metadata": {},
     "outputs": [],
     "prompt_number": 45
    },
    {
     "cell_type": "code",
     "collapsed": false,
     "input": [
      "#\u63a5\u4e0b\u6765\u4e3a\u903b\u8f91\u56de\u5f52\u6a21\u578b"
     ],
     "language": "python",
     "metadata": {},
     "outputs": [],
     "prompt_number": 46
    },
    {
     "cell_type": "code",
     "collapsed": false,
     "input": [
      "from sklearn.linear_model import LogisticRegression"
     ],
     "language": "python",
     "metadata": {},
     "outputs": [],
     "prompt_number": 48
    },
    {
     "cell_type": "code",
     "collapsed": false,
     "input": [
      "lr = LogisticRegression(C=3000.0,random_state=0)"
     ],
     "language": "python",
     "metadata": {},
     "outputs": [],
     "prompt_number": 52
    },
    {
     "cell_type": "code",
     "collapsed": false,
     "input": [
      "lr.fit(X_train_std,y_train)"
     ],
     "language": "python",
     "metadata": {},
     "outputs": [
      {
       "metadata": {},
       "output_type": "pyout",
       "prompt_number": 53,
       "text": [
        "LogisticRegression(C=3000.0, class_weight=None, dual=False,\n",
        "          fit_intercept=True, intercept_scaling=1, max_iter=100,\n",
        "          multi_class='ovr', n_jobs=1, penalty='l2', random_state=0,\n",
        "          solver='liblinear', tol=0.0001, verbose=0, warm_start=False)"
       ]
      }
     ],
     "prompt_number": 53
    },
    {
     "cell_type": "code",
     "collapsed": false,
     "input": [
      "plot_decision_regions(X_combined_std,y_combined,classifier=lr,test_idx = range(105,150))\n",
      "plt.xlabel('petal length [standarddized]')\n",
      "plt.ylabel('petal width [standarddized]')\n",
      "plt.legend(loc='upper left')\n",
      "plt.show()"
     ],
     "language": "python",
     "metadata": {},
     "outputs": [
      {
       "metadata": {},
       "output_type": "display_data",
       "png": "[encoded data removed]",
       "text": [
        "<matplotlib.figure.Figure at 0x7fa3d425b890>"
       ]
      }
     ],
     "prompt_number": 54
    },
    {
     "cell_type": "code",
     "collapsed": false,
     "input": [
      "lr.predict_proba(X_test_std[0,:])#\u8f93\u51fa\u6982\u7387"
     ],
     "language": "python",
     "metadata": {},
     "outputs": [
      {
       "output_type": "stream",
       "stream": "stderr",
       "text": [
        "/home/hadoop/.local/lib/python2.7/site-packages/sklearn/utils/validation.py:395: DeprecationWarning: Passing 1d arrays as data is deprecated in 0.17 and will raise ValueError in 0.19. Reshape your data either using X.reshape(-1, 1) if your data has a single feature or X.reshape(1, -1) if it contains a single sample.\n",
        "  DeprecationWarning)\n"
       ]
      },
      {
       "metadata": {},
       "output_type": "pyout",
       "prompt_number": 55,
       "text": [
        "array([[  7.50003825e-13,   6.63104680e-02,   9.33689532e-01]])"
       ]
      }
     ],
     "prompt_number": 55
    },
    {
     "cell_type": "code",
     "collapsed": false,
     "input": [],
     "language": "python",
     "metadata": {},
     "outputs": []
    }
   ],
   "metadata": {}
  }
 ]
}